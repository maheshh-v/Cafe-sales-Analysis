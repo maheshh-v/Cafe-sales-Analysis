{
 "cells": [
  {
   "cell_type": "markdown",
   "id": "ce0e3b10-9f0c-483a-bda4-f188d5737aec",
   "metadata": {},
   "source": [
    "# Cafe Sales Data Analysis using Pandas & Numpy"
   ]
  },
  {
   "cell_type": "markdown",
   "id": "2c10825d-020d-4a77-8f87-0117c85a3976",
   "metadata": {
    "jp-MarkdownHeadingCollapsed": true
   },
   "source": [
    "### 1. LOAD AND EXPLORE"
   ]
  },
  {
   "cell_type": "code",
   "execution_count": 6,
   "id": "f65cd505-7e92-47c4-8e79-89062d3adeca",
   "metadata": {},
   "outputs": [],
   "source": [
    "import numpy as np\n",
    "import pandas as pd\n"
   ]
  },
  {
   "cell_type": "code",
   "execution_count": 7,
   "id": "6cace1b0-53fb-4b6f-aa25-4233c4827b6f",
   "metadata": {},
   "outputs": [],
   "source": [
    "df = pd.read_csv(r\"C:\\Users\\HP\\Documents\\dirty_cafe_sales.csv\")"
   ]
  },
  {
   "cell_type": "code",
   "execution_count": 8,
   "id": "244e07a3-ffa4-45cc-a82a-75b58dda9c67",
   "metadata": {},
   "outputs": [
    {
     "name": "stdout",
     "output_type": "stream",
     "text": [
      "<class 'pandas.core.frame.DataFrame'>\n",
      "RangeIndex: 10000 entries, 0 to 9999\n",
      "Data columns (total 8 columns):\n",
      " #   Column            Non-Null Count  Dtype \n",
      "---  ------            --------------  ----- \n",
      " 0   Transaction ID    10000 non-null  object\n",
      " 1   Item              9667 non-null   object\n",
      " 2   Quantity          9862 non-null   object\n",
      " 3   Price Per Unit    9821 non-null   object\n",
      " 4   Total Spent       9827 non-null   object\n",
      " 5   Payment Method    7421 non-null   object\n",
      " 6   Location          6735 non-null   object\n",
      " 7   Transaction Date  9841 non-null   object\n",
      "dtypes: object(8)\n",
      "memory usage: 625.1+ KB\n"
     ]
    }
   ],
   "source": [
    "df.info()"
   ]
  },
  {
   "cell_type": "code",
   "execution_count": 9,
   "id": "53b7059c-d8ff-4ad3-9a2c-b2bc7d6dfe20",
   "metadata": {},
   "outputs": [
    {
     "data": {
      "text/plain": [
       "Transaction ID         0\n",
       "Item                 333\n",
       "Quantity             138\n",
       "Price Per Unit       179\n",
       "Total Spent          173\n",
       "Payment Method      2579\n",
       "Location            3265\n",
       "Transaction Date     159\n",
       "dtype: int64"
      ]
     },
     "execution_count": 9,
     "metadata": {},
     "output_type": "execute_result"
    }
   ],
   "source": [
    "df.isnull().sum()"
   ]
  },
  {
   "cell_type": "markdown",
   "id": "837612a4-6fd2-430b-806f-fc4cd716c05c",
   "metadata": {
    "jp-MarkdownHeadingCollapsed": true
   },
   "source": [
    "## 2. Data Cleaning & Preprocessing"
   ]
  },
  {
   "cell_type": "code",
   "execution_count": 10,
   "id": "0c08418a-b816-4ab5-9586-cc0fce76ccd7",
   "metadata": {},
   "outputs": [],
   "source": [
    "df.replace([\"ERROR\", \"UNKNOWN\"], np.nan , inplace = True)"
   ]
  },
  {
   "cell_type": "code",
   "execution_count": 11,
   "id": "4b936462-76a4-4288-ac0c-8156d699d889",
   "metadata": {},
   "outputs": [
    {
     "data": {
      "text/html": [
       "<div>\n",
       "<style scoped>\n",
       "    .dataframe tbody tr th:only-of-type {\n",
       "        vertical-align: middle;\n",
       "    }\n",
       "\n",
       "    .dataframe tbody tr th {\n",
       "        vertical-align: top;\n",
       "    }\n",
       "\n",
       "    .dataframe thead th {\n",
       "        text-align: right;\n",
       "    }\n",
       "</style>\n",
       "<table border=\"1\" class=\"dataframe\">\n",
       "  <thead>\n",
       "    <tr style=\"text-align: right;\">\n",
       "      <th></th>\n",
       "      <th>Transaction ID</th>\n",
       "      <th>Item</th>\n",
       "      <th>Quantity</th>\n",
       "      <th>Price Per Unit</th>\n",
       "      <th>Total Spent</th>\n",
       "      <th>Payment Method</th>\n",
       "      <th>Location</th>\n",
       "      <th>Transaction Date</th>\n",
       "    </tr>\n",
       "  </thead>\n",
       "  <tbody>\n",
       "    <tr>\n",
       "      <th>0</th>\n",
       "      <td>TXN_1961373</td>\n",
       "      <td>Coffee</td>\n",
       "      <td>2</td>\n",
       "      <td>2.0</td>\n",
       "      <td>4.0</td>\n",
       "      <td>Credit Card</td>\n",
       "      <td>Takeaway</td>\n",
       "      <td>2023-09-08</td>\n",
       "    </tr>\n",
       "    <tr>\n",
       "      <th>1</th>\n",
       "      <td>TXN_4977031</td>\n",
       "      <td>Cake</td>\n",
       "      <td>4</td>\n",
       "      <td>3.0</td>\n",
       "      <td>12.0</td>\n",
       "      <td>Cash</td>\n",
       "      <td>In-store</td>\n",
       "      <td>2023-05-16</td>\n",
       "    </tr>\n",
       "    <tr>\n",
       "      <th>2</th>\n",
       "      <td>TXN_4271903</td>\n",
       "      <td>Cookie</td>\n",
       "      <td>4</td>\n",
       "      <td>1.0</td>\n",
       "      <td>NaN</td>\n",
       "      <td>Credit Card</td>\n",
       "      <td>In-store</td>\n",
       "      <td>2023-07-19</td>\n",
       "    </tr>\n",
       "    <tr>\n",
       "      <th>3</th>\n",
       "      <td>TXN_7034554</td>\n",
       "      <td>Salad</td>\n",
       "      <td>2</td>\n",
       "      <td>5.0</td>\n",
       "      <td>10.0</td>\n",
       "      <td>NaN</td>\n",
       "      <td>NaN</td>\n",
       "      <td>2023-04-27</td>\n",
       "    </tr>\n",
       "    <tr>\n",
       "      <th>4</th>\n",
       "      <td>TXN_3160411</td>\n",
       "      <td>Coffee</td>\n",
       "      <td>2</td>\n",
       "      <td>2.0</td>\n",
       "      <td>4.0</td>\n",
       "      <td>Digital Wallet</td>\n",
       "      <td>In-store</td>\n",
       "      <td>2023-06-11</td>\n",
       "    </tr>\n",
       "  </tbody>\n",
       "</table>\n",
       "</div>"
      ],
      "text/plain": [
       "  Transaction ID    Item Quantity Price Per Unit Total Spent  Payment Method  \\\n",
       "0    TXN_1961373  Coffee        2            2.0         4.0     Credit Card   \n",
       "1    TXN_4977031    Cake        4            3.0        12.0            Cash   \n",
       "2    TXN_4271903  Cookie        4            1.0         NaN     Credit Card   \n",
       "3    TXN_7034554   Salad        2            5.0        10.0             NaN   \n",
       "4    TXN_3160411  Coffee        2            2.0         4.0  Digital Wallet   \n",
       "\n",
       "   Location Transaction Date  \n",
       "0  Takeaway       2023-09-08  \n",
       "1  In-store       2023-05-16  \n",
       "2  In-store       2023-07-19  \n",
       "3       NaN       2023-04-27  \n",
       "4  In-store       2023-06-11  "
      ]
     },
     "execution_count": 11,
     "metadata": {},
     "output_type": "execute_result"
    }
   ],
   "source": [
    "df.head()"
   ]
  },
  {
   "cell_type": "code",
   "execution_count": 12,
   "id": "48212944-1c99-4718-95e4-a6c35484939c",
   "metadata": {},
   "outputs": [],
   "source": [
    "# df[\"Quantity\"] = pd.to_numeric(df[\"Quantity\"], errors  = 'coerce')"
   ]
  },
  {
   "cell_type": "code",
   "execution_count": 13,
   "id": "3a1ccefe-c766-40be-b65b-a7e644859374",
   "metadata": {},
   "outputs": [],
   "source": [
    "# df[\"Price Per Unit\"] = pd.to_numeric(df[\"Price Per Unit\"], errors  = 'coerce')"
   ]
  },
  {
   "cell_type": "code",
   "execution_count": 14,
   "id": "34d3c082-564b-4eb8-b252-37e0b217e975",
   "metadata": {},
   "outputs": [],
   "source": [
    "# df[\"Total Spent\"] = pd.to_numeric(df[\"Total Spent\"], errors  = 'coerce')"
   ]
  },
  {
   "cell_type": "code",
   "execution_count": 15,
   "id": "9423a5f3-8abc-454b-9fd8-5d7b3f949787",
   "metadata": {},
   "outputs": [],
   "source": [
    "cols_to_float = ['Quantity', 'Price Per Unit', 'Total Spent']\n",
    "for i in cols_to_float:\n",
    "    df[i]  = pd.to_numeric(df[i], errors = 'coerce')"
   ]
  },
  {
   "cell_type": "code",
   "execution_count": 16,
   "id": "8b4825ba-67c0-4ffa-8330-85684fb2b5c4",
   "metadata": {},
   "outputs": [],
   "source": [
    "df[\"Transaction Date\"] = pd.to_datetime(df[\"Transaction Date\"], errors = 'coerce')"
   ]
  },
  {
   "cell_type": "code",
   "execution_count": 17,
   "id": "7d7ccb67-3f39-4537-ba38-cc6de9e4229a",
   "metadata": {},
   "outputs": [
    {
     "name": "stdout",
     "output_type": "stream",
     "text": [
      "<class 'pandas.core.frame.DataFrame'>\n",
      "RangeIndex: 10000 entries, 0 to 9999\n",
      "Data columns (total 8 columns):\n",
      " #   Column            Non-Null Count  Dtype         \n",
      "---  ------            --------------  -----         \n",
      " 0   Transaction ID    10000 non-null  object        \n",
      " 1   Item              9031 non-null   object        \n",
      " 2   Quantity          9521 non-null   float64       \n",
      " 3   Price Per Unit    9467 non-null   float64       \n",
      " 4   Total Spent       9498 non-null   float64       \n",
      " 5   Payment Method    6822 non-null   object        \n",
      " 6   Location          6039 non-null   object        \n",
      " 7   Transaction Date  9540 non-null   datetime64[ns]\n",
      "dtypes: datetime64[ns](1), float64(3), object(4)\n",
      "memory usage: 625.1+ KB\n"
     ]
    }
   ],
   "source": [
    "df.info()"
   ]
  },
  {
   "cell_type": "code",
   "execution_count": 18,
   "id": "0dd24be7-3327-4c4c-81d8-6ebfd3dfd591",
   "metadata": {},
   "outputs": [
    {
     "data": {
      "text/plain": [
       "Transaction ID         0\n",
       "Item                 969\n",
       "Quantity             479\n",
       "Price Per Unit       533\n",
       "Total Spent          502\n",
       "Payment Method      3178\n",
       "Location            3961\n",
       "Transaction Date     460\n",
       "dtype: int64"
      ]
     },
     "execution_count": 18,
     "metadata": {},
     "output_type": "execute_result"
    }
   ],
   "source": [
    "df.isnull().sum()"
   ]
  },
  {
   "cell_type": "markdown",
   "id": "5e71b8c7-d1b6-49a9-a848-c04d3fc88412",
   "metadata": {},
   "source": [
    " *filling missing vlaues* \n",
    "\n"
   ]
  },
  {
   "cell_type": "code",
   "execution_count": 48,
   "id": "45af7f9f-cd45-40ad-9013-9d0cf3d9c456",
   "metadata": {},
   "outputs": [],
   "source": [
    "df.fillna({\n",
    "    'Quantity': df['Quantity'].median(),\n",
    "    'Price Per Unit': df['Price Per Unit'].median()\n",
    "}, inplace=True)\n"
   ]
  },
  {
   "cell_type": "code",
   "execution_count": 49,
   "id": "197123e4-d35d-445c-af47-c0f73153ad98",
   "metadata": {},
   "outputs": [
    {
     "name": "stdout",
     "output_type": "stream",
     "text": [
      "0\n"
     ]
    }
   ],
   "source": [
    "print(df[\"Quantity\"].isna().sum()) "
   ]
  },
  {
   "cell_type": "markdown",
   "id": "366cd705-210a-418c-ba13-b9a9e0d8b9e2",
   "metadata": {},
   "source": [
    "*now lets fix total spent, just by recalculating it , if any thing is wrong in it*"
   ]
  },
  {
   "cell_type": "code",
   "execution_count": 50,
   "id": "24c8b09b-407a-445b-9281-8a928e4d3ed5",
   "metadata": {},
   "outputs": [],
   "source": [
    "df[\"Total Spent\"] = df[\"Quantity\"] * df[\"Price Per Unit\"]"
   ]
  },
  {
   "cell_type": "code",
   "execution_count": 51,
   "id": "19059453-941d-46fb-ad60-451ffbcc9f14",
   "metadata": {},
   "outputs": [
    {
     "name": "stdout",
     "output_type": "stream",
     "text": [
      "<class 'pandas.core.frame.DataFrame'>\n",
      "Index: 9540 entries, 0 to 9999\n",
      "Data columns (total 9 columns):\n",
      " #   Column            Non-Null Count  Dtype         \n",
      "---  ------            --------------  -----         \n",
      " 0   Transaction ID    9540 non-null   object        \n",
      " 1   Item              9540 non-null   object        \n",
      " 2   Quantity          9540 non-null   float64       \n",
      " 3   Price Per Unit    9540 non-null   float64       \n",
      " 4   Total Spent       9540 non-null   float64       \n",
      " 5   Payment Method    9540 non-null   object        \n",
      " 6   Location          9540 non-null   object        \n",
      " 7   Transaction Date  9540 non-null   datetime64[ns]\n",
      " 8   item              9540 non-null   object        \n",
      "dtypes: datetime64[ns](1), float64(3), object(5)\n",
      "memory usage: 745.3+ KB\n"
     ]
    }
   ],
   "source": [
    "df.info()"
   ]
  },
  {
   "cell_type": "markdown",
   "id": "7f792efc-533e-4c29-8dc0-daed7ee59914",
   "metadata": {},
   "source": [
    "##### Fixing\n",
    "- Item (969 missing)\n",
    "\n",
    ">if few then we will drop it , \n",
    "but now lets fill it with , \"Unknown Item\"\n",
    "\n",
    "- fixing payment method,loc\n",
    "\n",
    ">mode - it will fill with most common \n",
    "\n",
    "- dropping rows without transation date\n"
   ]
  },
  {
   "cell_type": "code",
   "execution_count": 52,
   "id": "3211e3b6-277e-4b13-814d-7f7731f2cc7f",
   "metadata": {},
   "outputs": [],
   "source": [
    "df[\"item\"]=df[\"Item\"].fillna(\"Unknown Item\")\n"
   ]
  },
  {
   "cell_type": "code",
   "execution_count": 53,
   "id": "688cb0ee-4171-45ae-9dcc-4ecfc1117d87",
   "metadata": {},
   "outputs": [],
   "source": [
    "df[\"Payment Method\"] = df[\"Payment Method\"].fillna(df[\"Payment Method\"].mode()[0])"
   ]
  },
  {
   "cell_type": "code",
   "execution_count": 54,
   "id": "9cd0487d-3905-4a03-8676-263febf3f313",
   "metadata": {},
   "outputs": [],
   "source": [
    "df[\"Location\"] = df[\"Location\"].fillna(df[\"Location\"].mode()[0])"
   ]
  },
  {
   "cell_type": "code",
   "execution_count": 55,
   "id": "435de8b9-763f-4b52-9509-d8da9d0b40d2",
   "metadata": {},
   "outputs": [],
   "source": [
    "df.dropna(subset=['Transaction Date'], inplace=True)  #dropping alll rows where transaction date missing"
   ]
  },
  {
   "cell_type": "code",
   "execution_count": 56,
   "id": "732b2704-0121-4ca2-a195-6a204a19c844",
   "metadata": {},
   "outputs": [
    {
     "name": "stdout",
     "output_type": "stream",
     "text": [
      "<class 'pandas.core.frame.DataFrame'>\n",
      "Index: 9540 entries, 0 to 9999\n",
      "Data columns (total 9 columns):\n",
      " #   Column            Non-Null Count  Dtype         \n",
      "---  ------            --------------  -----         \n",
      " 0   Transaction ID    9540 non-null   object        \n",
      " 1   Item              9540 non-null   object        \n",
      " 2   Quantity          9540 non-null   float64       \n",
      " 3   Price Per Unit    9540 non-null   float64       \n",
      " 4   Total Spent       9540 non-null   float64       \n",
      " 5   Payment Method    9540 non-null   object        \n",
      " 6   Location          9540 non-null   object        \n",
      " 7   Transaction Date  9540 non-null   datetime64[ns]\n",
      " 8   item              9540 non-null   object        \n",
      "dtypes: datetime64[ns](1), float64(3), object(5)\n",
      "memory usage: 745.3+ KB\n"
     ]
    }
   ],
   "source": [
    "df.info()"
   ]
  },
  {
   "cell_type": "code",
   "execution_count": 58,
   "id": "8c0647e0-cd56-45db-8a02-58acc1f758d5",
   "metadata": {},
   "outputs": [
    {
     "data": {
      "text/plain": [
       "Transaction ID      0\n",
       "Item                0\n",
       "Quantity            0\n",
       "Price Per Unit      0\n",
       "Total Spent         0\n",
       "Payment Method      0\n",
       "Location            0\n",
       "Transaction Date    0\n",
       "item                0\n",
       "dtype: int64"
      ]
     },
     "execution_count": 58,
     "metadata": {},
     "output_type": "execute_result"
    }
   ],
   "source": [
    "df.isnull().sum()"
   ]
  },
  {
   "cell_type": "markdown",
   "id": "87e90f78-470b-49b3-a84a-21c0456fc44d",
   "metadata": {
    "jp-MarkdownHeadingCollapsed": true
   },
   "source": [
    "## 3. Featuer engineering\n",
    "\n",
    "lets create , columns like - year , month , day , weekday name\n",
    "\n",
    ">It helps you analyze sales trends over time — by year, month, or weekday"
   ]
  },
  {
   "cell_type": "code",
   "execution_count": 60,
   "id": "7f743335-30cf-40cd-8c87-022134c54f48",
   "metadata": {},
   "outputs": [],
   "source": [
    "df[\"Year\"] = df[\"Transaction Date\"].dt.year"
   ]
  },
  {
   "cell_type": "code",
   "execution_count": 62,
   "id": "098e6bf8-aaf4-480d-b963-e412a10a56f1",
   "metadata": {},
   "outputs": [],
   "source": [
    "df[\"Month\"] = df[\"Transaction Date\"].dt.month\n",
    "df[\"Day\"] = df[\"Transaction Date\"].dt.day\n",
    "df[\"Weekday\"] = df[\"Transaction Date\"].dt.day_name()"
   ]
  },
  {
   "cell_type": "code",
   "execution_count": 63,
   "id": "6a499e0c-a909-47b5-a8f1-36e079bf56cc",
   "metadata": {},
   "outputs": [
    {
     "data": {
      "text/html": [
       "<div>\n",
       "<style scoped>\n",
       "    .dataframe tbody tr th:only-of-type {\n",
       "        vertical-align: middle;\n",
       "    }\n",
       "\n",
       "    .dataframe tbody tr th {\n",
       "        vertical-align: top;\n",
       "    }\n",
       "\n",
       "    .dataframe thead th {\n",
       "        text-align: right;\n",
       "    }\n",
       "</style>\n",
       "<table border=\"1\" class=\"dataframe\">\n",
       "  <thead>\n",
       "    <tr style=\"text-align: right;\">\n",
       "      <th></th>\n",
       "      <th>Transaction ID</th>\n",
       "      <th>Item</th>\n",
       "      <th>Quantity</th>\n",
       "      <th>Price Per Unit</th>\n",
       "      <th>Total Spent</th>\n",
       "      <th>Payment Method</th>\n",
       "      <th>Location</th>\n",
       "      <th>Transaction Date</th>\n",
       "      <th>item</th>\n",
       "      <th>Year</th>\n",
       "      <th>Month</th>\n",
       "      <th>Day</th>\n",
       "      <th>Weekday</th>\n",
       "    </tr>\n",
       "  </thead>\n",
       "  <tbody>\n",
       "    <tr>\n",
       "      <th>0</th>\n",
       "      <td>TXN_1961373</td>\n",
       "      <td>Coffee</td>\n",
       "      <td>2.0</td>\n",
       "      <td>2.0</td>\n",
       "      <td>4.0</td>\n",
       "      <td>Credit Card</td>\n",
       "      <td>Takeaway</td>\n",
       "      <td>2023-09-08</td>\n",
       "      <td>Coffee</td>\n",
       "      <td>2023</td>\n",
       "      <td>9</td>\n",
       "      <td>8</td>\n",
       "      <td>Friday</td>\n",
       "    </tr>\n",
       "    <tr>\n",
       "      <th>1</th>\n",
       "      <td>TXN_4977031</td>\n",
       "      <td>Cake</td>\n",
       "      <td>4.0</td>\n",
       "      <td>3.0</td>\n",
       "      <td>12.0</td>\n",
       "      <td>Cash</td>\n",
       "      <td>In-store</td>\n",
       "      <td>2023-05-16</td>\n",
       "      <td>Cake</td>\n",
       "      <td>2023</td>\n",
       "      <td>5</td>\n",
       "      <td>16</td>\n",
       "      <td>Tuesday</td>\n",
       "    </tr>\n",
       "    <tr>\n",
       "      <th>2</th>\n",
       "      <td>TXN_4271903</td>\n",
       "      <td>Cookie</td>\n",
       "      <td>4.0</td>\n",
       "      <td>1.0</td>\n",
       "      <td>4.0</td>\n",
       "      <td>Credit Card</td>\n",
       "      <td>In-store</td>\n",
       "      <td>2023-07-19</td>\n",
       "      <td>Cookie</td>\n",
       "      <td>2023</td>\n",
       "      <td>7</td>\n",
       "      <td>19</td>\n",
       "      <td>Wednesday</td>\n",
       "    </tr>\n",
       "    <tr>\n",
       "      <th>3</th>\n",
       "      <td>TXN_7034554</td>\n",
       "      <td>Salad</td>\n",
       "      <td>2.0</td>\n",
       "      <td>5.0</td>\n",
       "      <td>10.0</td>\n",
       "      <td>Digital Wallet</td>\n",
       "      <td>Takeaway</td>\n",
       "      <td>2023-04-27</td>\n",
       "      <td>Salad</td>\n",
       "      <td>2023</td>\n",
       "      <td>4</td>\n",
       "      <td>27</td>\n",
       "      <td>Thursday</td>\n",
       "    </tr>\n",
       "    <tr>\n",
       "      <th>4</th>\n",
       "      <td>TXN_3160411</td>\n",
       "      <td>Coffee</td>\n",
       "      <td>2.0</td>\n",
       "      <td>2.0</td>\n",
       "      <td>4.0</td>\n",
       "      <td>Digital Wallet</td>\n",
       "      <td>In-store</td>\n",
       "      <td>2023-06-11</td>\n",
       "      <td>Coffee</td>\n",
       "      <td>2023</td>\n",
       "      <td>6</td>\n",
       "      <td>11</td>\n",
       "      <td>Sunday</td>\n",
       "    </tr>\n",
       "  </tbody>\n",
       "</table>\n",
       "</div>"
      ],
      "text/plain": [
       "  Transaction ID    Item  Quantity  Price Per Unit  Total Spent  \\\n",
       "0    TXN_1961373  Coffee       2.0             2.0          4.0   \n",
       "1    TXN_4977031    Cake       4.0             3.0         12.0   \n",
       "2    TXN_4271903  Cookie       4.0             1.0          4.0   \n",
       "3    TXN_7034554   Salad       2.0             5.0         10.0   \n",
       "4    TXN_3160411  Coffee       2.0             2.0          4.0   \n",
       "\n",
       "   Payment Method  Location Transaction Date    item  Year  Month  Day  \\\n",
       "0     Credit Card  Takeaway       2023-09-08  Coffee  2023      9    8   \n",
       "1            Cash  In-store       2023-05-16    Cake  2023      5   16   \n",
       "2     Credit Card  In-store       2023-07-19  Cookie  2023      7   19   \n",
       "3  Digital Wallet  Takeaway       2023-04-27   Salad  2023      4   27   \n",
       "4  Digital Wallet  In-store       2023-06-11  Coffee  2023      6   11   \n",
       "\n",
       "     Weekday  \n",
       "0     Friday  \n",
       "1    Tuesday  \n",
       "2  Wednesday  \n",
       "3   Thursday  \n",
       "4     Sunday  "
      ]
     },
     "execution_count": 63,
     "metadata": {},
     "output_type": "execute_result"
    }
   ],
   "source": [
    "df.head()"
   ]
  },
  {
   "cell_type": "markdown",
   "id": "ebeb5ae9-c4ee-4912-bc6b-3c4875b76a85",
   "metadata": {
    "jp-MarkdownHeadingCollapsed": true
   },
   "source": [
    "## 4. exploratory data analysis\n",
    "\n",
    ">in this, we explore data and find usefull insights form the data set"
   ]
  },
  {
   "cell_type": "markdown",
   "id": "31b782e7-66b8-4a00-af7a-1cc3d8c964b0",
   "metadata": {},
   "source": [
    "### Four basic EDA insights"
   ]
  },
  {
   "cell_type": "markdown",
   "id": "8982426f-ec31-4465-842b-f9fff515dcbe",
   "metadata": {},
   "source": [
    "#### 1- Top five sold items"
   ]
  },
  {
   "cell_type": "code",
   "execution_count": 135,
   "id": "cbf02613-a865-49b1-86bb-6aaad7d79566",
   "metadata": {},
   "outputs": [
    {
     "data": {
      "text/plain": [
       "Item\n",
       "Salad       16198.0\n",
       "Sandwich    12892.0\n",
       "Smoothie    12643.0\n",
       "Juice       10053.0\n",
       "Cake         9834.0\n",
       "Name: Total Spent, dtype: float64"
      ]
     },
     "execution_count": 135,
     "metadata": {},
     "output_type": "execute_result"
    }
   ],
   "source": [
    "df.groupby(\"Item\")[\"Total Spent\"].sum().sort_values(ascending=False).head(5)"
   ]
  },
  {
   "cell_type": "markdown",
   "id": "fbea321c-b5e7-4c47-b6b8-8d243144902f",
   "metadata": {},
   "source": [
    "#### 2 - Most freq sold items"
   ]
  },
  {
   "cell_type": "code",
   "execution_count": 146,
   "id": "c381e76c-0cf0-4f89-af69-373f1a3c622c",
   "metadata": {},
   "outputs": [
    {
     "data": {
      "text/plain": [
       "Item\n",
       "Juice       1124\n",
       "Coffee      1123\n",
       "Salad       1099\n",
       "Cake        1082\n",
       "Sandwich    1075\n",
       "Name: count, dtype: int64"
      ]
     },
     "execution_count": 146,
     "metadata": {},
     "output_type": "execute_result"
    }
   ],
   "source": [
    "df[\"Item\"].value_counts().head()"
   ]
  },
  {
   "cell_type": "markdown",
   "id": "55390a5c-fa8a-47f4-a3db-6cbdec63960a",
   "metadata": {},
   "source": [
    "#### 3- Monthly sales trends"
   ]
  },
  {
   "cell_type": "code",
   "execution_count": 76,
   "id": "b409da93-e8b3-463e-8ea0-020d4b6f25f0",
   "metadata": {
    "scrolled": true
   },
   "outputs": [
    {
     "data": {
      "text/plain": [
       "Month\n",
       "1     7258.0\n",
       "2     6673.0\n",
       "3     7215.5\n",
       "4     7193.5\n",
       "5     6978.5\n",
       "6     7417.5\n",
       "7     6927.5\n",
       "8     7101.0\n",
       "9     6886.0\n",
       "10    7353.5\n",
       "11    7021.0\n",
       "12    7221.5\n",
       "Name: Total Spent, dtype: float64"
      ]
     },
     "execution_count": 76,
     "metadata": {},
     "output_type": "execute_result"
    }
   ],
   "source": [
    "df.groupby(\"Month\")[\"Total Spent\"].sum()"
   ]
  },
  {
   "cell_type": "markdown",
   "id": "3340c1f7-2d0e-4279-9561-eec21e7f2dad",
   "metadata": {},
   "source": [
    "#### 4- Payment method popularity"
   ]
  },
  {
   "cell_type": "code",
   "execution_count": 79,
   "id": "95ee2f08-8660-4ed4-841f-0885cbd3e52d",
   "metadata": {},
   "outputs": [
    {
     "data": {
      "text/plain": [
       "Payment Method\n",
       "Cash              19621.0\n",
       "Credit Card       19476.5\n",
       "Digital Wallet    46149.0\n",
       "Name: Total Spent, dtype: float64"
      ]
     },
     "execution_count": 79,
     "metadata": {},
     "output_type": "execute_result"
    }
   ],
   "source": [
    "df.groupby(\"Payment Method\")[\"Total Spent\"].sum()"
   ]
  },
  {
   "cell_type": "markdown",
   "id": "0cd5abc7-8c98-4362-ad42-0be305b0ebae",
   "metadata": {
    "jp-MarkdownHeadingCollapsed": true
   },
   "source": [
    "## 5. Data visualization"
   ]
  },
  {
   "cell_type": "code",
   "execution_count": 80,
   "id": "0af1fe2a-eb89-43e0-a8b9-b0288b226148",
   "metadata": {},
   "outputs": [],
   "source": [
    "import seaborn as sn\n",
    "import matplotlib.pyplot as plt"
   ]
  },
  {
   "cell_type": "markdown",
   "id": "1179fb75-14ce-4c5b-a319-b61a9feb3255",
   "metadata": {
    "jp-MarkdownHeadingCollapsed": true
   },
   "source": [
    "#### 1- Top 5 sold items"
   ]
  },
  {
   "cell_type": "code",
   "execution_count": 142,
   "id": "3fc75577-0425-41f0-8ae3-b831a7b3fa5e",
   "metadata": {},
   "outputs": [
    {
     "data": {
      "image/png": "[encoded data removed]",
      "text/plain": [
       "<Figure size 1000x500 with 1 Axes>"
      ]
     },
     "metadata": {},
     "output_type": "display_data"
    }
   ],
   "source": [
    "top_five = df.groupby(\"Item\")[\"Total Spent\"].sum().sort_values(ascending = False).head(5)\n",
    "plt.figure(figsize=(10,5))\n",
    "sn.barplot(x = top_five.index , y = top_five.values)\n",
    "plt.xlabel(\"top 5 Items\")\n",
    "plt.ylabel(\"sales\")\n",
    "plt.title(\"top five items sold\")\n",
    "plt.xticks(rotation=30)\n",
    "plt.show()"
   ]
  },
  {
   "cell_type": "markdown",
   "id": "8ffffcb2-31a3-4d6b-bfc0-965bd4b0a095",
   "metadata": {
    "jp-MarkdownHeadingCollapsed": true
   },
   "source": [
    "#### 2- Most freq sold"
   ]
  },
  {
   "cell_type": "code",
   "execution_count": 152,
   "id": "b795896d-5286-4264-acc8-3fa59982ba74",
   "metadata": {},
   "outputs": [
    {
     "data": {
      "image/png": "[encoded data removed]",
      "text/plain": [
       "<Figure size 640x480 with 1 Axes>"
      ]
     },
     "metadata": {},
     "output_type": "display_data"
    }
   ],
   "source": [
    "df[\"Item\"].value_counts().head().sort_values().plot(kind='barh', color='skyblue')  #horizontal bar graph\n",
    "plt.title(\"Top 5 Most Frequently Sold Items\")\n",
    "plt.xlabel(\"Number of Sales\")\n",
    "plt.ylabel(\"Item\")\n",
    "plt.show()\n"
   ]
  },
  {
   "cell_type": "markdown",
   "id": "9c7baa4e-0c38-4d8b-b551-d691375b75b0",
   "metadata": {
    "jp-MarkdownHeadingCollapsed": true
   },
   "source": [
    "#### 3- Monthly sales trend (line plot)"
   ]
  },
  {
   "cell_type": "code",
   "execution_count": 120,
   "id": "b65c8b5c-df66-45b6-a7a7-ffe524f56b9b",
   "metadata": {},
   "outputs": [
    {
     "data": {
      "image/png": "[encoded data removed]",
      "text/plain": [
       "<Figure size 1000x500 with 1 Axes>"
      ]
     },
     "metadata": {},
     "output_type": "display_data"
    }
   ],
   "source": [
    "monthly_sales = df.groupby(\"Month\")[\"Total Spent\"].sum()\n",
    "\n",
    "plt.figure(figsize  = (10,5))\n",
    "sn.lineplot(x = monthly_sales.index , y = monthly_sales.values)\n",
    "plt.title(\"Monthly sales Trend\")\n",
    "plt.xlabel(\"Month\")\n",
    "plt.ylabel(\"Total Sales\")\n",
    "plt.xticks(range(1,13))\n",
    "plt.grid(True)\n",
    "plt.show()"
   ]
  },
  {
   "cell_type": "markdown",
   "id": "9fefa14f-6121-4492-9b7e-d57f1b727b99",
   "metadata": {
    "jp-MarkdownHeadingCollapsed": true
   },
   "source": [
    "#### 4- Payment method popularity"
   ]
  },
  {
   "cell_type": "code",
   "execution_count": 121,
   "id": "776081d6-78ff-4a6d-b574-2e1f19f61e9b",
   "metadata": {},
   "outputs": [
    {
     "data": {
      "image/png": "[encoded data removed]",
      "text/plain": [
       "<Figure size 1000x500 with 1 Axes>"
      ]
     },
     "metadata": {},
     "output_type": "display_data"
    }
   ],
   "source": [
    "payment_sales = df.groupby(\"Payment Method\")[\"Total Spent\"].sum()\n",
    "plt.figure(figsize=(10, 5))\n",
    "sn.barplot(x=payment_sales.index, y=payment_sales.values)\n",
    "plt.title(\"Payment method popularity\")\n",
    "plt.xlabel(\"Payment Method\")\n",
    "plt.ylabel(\"Total Sales\")\n",
    "plt.xticks(rotation=30)\n",
    "plt.show()\n"
   ]
  },
  {
   "cell_type": "markdown",
   "id": "8f18a8e3-4ae4-4638-a7ab-4e8c039f1db8",
   "metadata": {},
   "source": [
    "## 🔍 Insights & Conclusion\n",
    "\n",
    "1. **Top Revenue-Generating Items**: Salad, Sandwich, and Smoothie were the most profitable.\n",
    "2. **Most Frequently Sold Items**: Juice and Coffee showed the highest volume of sales.\n",
    "3. **Monthly Sales Trends**: October and June had the highest sales, indicating seasonal patterns.\n",
    "4. **Payment Preferences**: Digital Wallets were the most popular payment method.\n",
    "5. **Data Cleaning**: Handled missing values, wrong data types (like 'ERROR'), and unknown values effectively.\n",
    "\n",
    ">This analysis helps the café understand popular products, peak sales months, and preferred payment methods.\n"
   ]
  },
  {
   "cell_type": "code",
   "execution_count": null,
   "id": "cc4e0fa6-a18a-4e51-8b6f-a4b837d845ef",
   "metadata": {},
   "outputs": [],
   "source": []
  }
 ],
 "metadata": {
  "kernelspec": {
   "display_name": "Python 3 (ipykernel)",
   "language": "python",
   "name": "python3"
  },
  "language_info": {
   "codemirror_mode": {
    "name": "ipython",
    "version": 3
   },
   "file_extension": ".py",
   "mimetype": "text/x-python",
   "name": "python",
   "nbconvert_exporter": "python",
   "pygments_lexer": "ipython3",
   "version": "3.12.7"
  }
 },
 "nbformat": 4,
 "nbformat_minor": 5
}
